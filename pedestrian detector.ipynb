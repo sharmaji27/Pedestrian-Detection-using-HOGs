{
 "cells": [
  {
   "cell_type": "code",
   "execution_count": 8,
   "metadata": {},
   "outputs": [],
   "source": [
    "import cv2\n",
    "from imutils.object_detection import non_max_suppression\n",
    "from imutils import resize\n",
    "import numpy as np\n",
    "\n",
    "hog = cv2.HOGDescriptor()\n",
    "hog.setSVMDetector(cv2.HOGDescriptor_getDefaultPeopleDetector())\n",
    "\n",
    "img = cv2.imread('f.jpg')\n",
    "img = resize(img,height=500)\n",
    "\n",
    "rects,weights = hog.detectMultiScale(img,winStride=(4,4),padding=(8,8),scale=1.05)\n",
    "\n",
    "copy = img.copy()\n",
    "for x,y,w,h in rects:\n",
    "    cv2.rectangle(copy,(x,y),(x+w,y+h),(0,0,255),2)\n",
    "\n",
    "cv2.imshow('before suppression',copy)\n",
    "cv2.waitKey(0)\n",
    "\n",
    "r = np.array([[x,y,x+w,y+h] for x,y,w,h in rects])\n",
    "pick = non_max_suppression(r,probs=None,overlapThresh=0.65)    \n",
    "\n",
    "for xa,ya,xb,yb in pick:\n",
    "    cv2.rectangle(img,(xa,ya),(xb,yb),(0,255,0),2)\n",
    "\n",
    "cv2.imshow('after suppression',img)\n",
    "cv2.waitKey(0)\n",
    "\n",
    "cv2.destroyAllWindows()"
   ]
  },
  {
   "cell_type": "code",
   "execution_count": null,
   "metadata": {},
   "outputs": [],
   "source": []
  }
 ],
 "metadata": {
  "kernelspec": {
   "display_name": "Python 3",
   "language": "python",
   "name": "python3"
  },
  "language_info": {
   "codemirror_mode": {
    "name": "ipython",
    "version": 3
   },
   "file_extension": ".py",
   "mimetype": "text/x-python",
   "name": "python",
   "nbconvert_exporter": "python",
   "pygments_lexer": "ipython3",
   "version": "3.7.10"
  }
 },
 "nbformat": 4,
 "nbformat_minor": 2
}
